{
 "cells": [
  {
   "cell_type": "code",
   "execution_count": 3,
   "id": "6c5d9d63",
   "metadata": {},
   "outputs": [],
   "source": [
    "import pandas as pd"
   ]
  },
  {
   "cell_type": "markdown",
   "id": "4dce727e",
   "metadata": {},
   "source": [
    "# importing All the files"
   ]
  },
  {
   "cell_type": "code",
   "execution_count": 5,
   "id": "7e3102fe",
   "metadata": {},
   "outputs": [],
   "source": [
    "student_vle = pd.read_csv(\"C:/Users/Dell/Desktop/25 march/studentVle.csv\")\n",
    "vle = pd.read_csv(\"C:/Users/Dell/Desktop/25 march/Vle.csv\")\n",
    "stu_reg = pd.read_csv(\"C:/Users/Dell/Desktop/25 march/studentRegistration.csv\")\n",
    "stu_info = pd.read_csv(\"C:/Users/Dell/Desktop/25 march/studentInfo.csv\")\n",
    "courses = pd.read_csv(\"C:/Users/Dell/Desktop/25 march/courses.csv\")\n",
    "assessments = pd.read_csv(\"C:/Users/Dell/Desktop/25 march/assessments.csv\")"
   ]
  },
  {
   "cell_type": "code",
   "execution_count": 14,
   "id": "d854396c",
   "metadata": {},
   "outputs": [
    {
     "data": {
      "text/plain": [
       "id_site              0\n",
       "code_module          0\n",
       "code_presentation    0\n",
       "activity_type        0\n",
       "dtype: int64"
      ]
     },
     "execution_count": 14,
     "metadata": {},
     "output_type": "execute_result"
    }
   ],
   "source": [
    "## Dataset 1\n",
    "pd.isnull(vle).sum()"
   ]
  },
  {
   "cell_type": "code",
   "execution_count": 12,
   "id": "8ac7705e",
   "metadata": {},
   "outputs": [
    {
     "data": {
      "text/plain": [
       "Index(['id_site', 'code_module', 'code_presentation', 'activity_type'], dtype='object')"
      ]
     },
     "execution_count": 12,
     "metadata": {},
     "output_type": "execute_result"
    }
   ],
   "source": [
    "vle.columns"
   ]
  },
  {
   "cell_type": "code",
   "execution_count": 61,
   "id": "2bbe0d11",
   "metadata": {},
   "outputs": [],
   "source": [
    "vle.to_csv('C:/Users/Dell/Desktop/25 march/updated/vle.csv',index= False)"
   ]
  },
  {
   "cell_type": "code",
   "execution_count": 15,
   "id": "6de1cae5",
   "metadata": {},
   "outputs": [
    {
     "data": {
      "text/plain": [
       "code_module                0\n",
       "code_presentation          0\n",
       "id_student                 0\n",
       "date_registration         45\n",
       "date_unregistration    22521\n",
       "dtype: int64"
      ]
     },
     "execution_count": 15,
     "metadata": {},
     "output_type": "execute_result"
    }
   ],
   "source": [
    "## Dealing with all the null values in all datasets.\n",
    "## Dataset 2\n",
    "pd.isnull(stu_reg).sum()"
   ]
  },
  {
   "cell_type": "code",
   "execution_count": 25,
   "id": "5d0a0f6f",
   "metadata": {},
   "outputs": [
    {
     "data": {
      "text/plain": [
       "code_module                0\n",
       "code_presentation          0\n",
       "id_student                 0\n",
       "date_registration          0\n",
       "date_unregistration    22521\n",
       "dtype: int64"
      ]
     },
     "execution_count": 25,
     "metadata": {},
     "output_type": "execute_result"
    }
   ],
   "source": [
    "## Replacing null values with 0.\n",
    "stu_reg['date_registration']=stu_reg['date_registration'].fillna(0)\n",
    "pd.isnull(stu_reg).sum()"
   ]
  },
  {
   "cell_type": "code",
   "execution_count": 31,
   "id": "c94ffe2f",
   "metadata": {},
   "outputs": [],
   "source": [
    "## Droping date_unregistration column as it has almost half of the null values in it and is not that importantfor future analysis.\n",
    "stu_reg.drop('date_unregistration',axis= 1, inplace= True)"
   ]
  },
  {
   "cell_type": "code",
   "execution_count": 32,
   "id": "660539c3",
   "metadata": {},
   "outputs": [
    {
     "data": {
      "text/plain": [
       "Index(['code_module', 'code_presentation', 'id_student', 'date_registration'], dtype='object')"
      ]
     },
     "execution_count": 32,
     "metadata": {},
     "output_type": "execute_result"
    }
   ],
   "source": [
    "stu_reg.columns"
   ]
  },
  {
   "cell_type": "code",
   "execution_count": 62,
   "id": "4285efb2",
   "metadata": {},
   "outputs": [],
   "source": [
    "stu_reg.to_csv('C:/Users/Dell/Desktop/25 march/updated/stu_register.csv',index= False)"
   ]
  },
  {
   "cell_type": "code",
   "execution_count": 34,
   "id": "6c305676",
   "metadata": {},
   "outputs": [
    {
     "data": {
      "text/plain": [
       "Index(['code_module', 'code_presentation', 'id_student', 'gender', 'region',\n",
       "       'highest_education', 'imd_band', 'age_band', 'num_of_prev_attempts',\n",
       "       'studied_credits', 'disability', 'final_result'],\n",
       "      dtype='object')"
      ]
     },
     "execution_count": 34,
     "metadata": {},
     "output_type": "execute_result"
    }
   ],
   "source": [
    "## Dataset 3\n",
    "stu_info.columns"
   ]
  },
  {
   "cell_type": "code",
   "execution_count": 37,
   "id": "50263cb9",
   "metadata": {},
   "outputs": [
    {
     "name": "stdout",
     "output_type": "stream",
     "text": [
      "0        90-100%\n",
      "1         20-30%\n",
      "2         30-40%\n",
      "3         50-60%\n",
      "4         50-60%\n",
      "          ...   \n",
      "32588      10-20\n",
      "32589     40-50%\n",
      "32590     20-30%\n",
      "32591    90-100%\n",
      "32592     50-60%\n",
      "Name: imd_band, Length: 32593, dtype: object\n"
     ]
    }
   ],
   "source": [
    "print(stu_info['imd_band'])"
   ]
  },
  {
   "cell_type": "code",
   "execution_count": 42,
   "id": "ef9a5814",
   "metadata": {},
   "outputs": [
    {
     "name": "stdout",
     "output_type": "stream",
     "text": [
      "      code_module code_presentation  id_student gender                region  \\\n",
      "0             AAA             2013J       11391      M   East Anglian Region   \n",
      "1             AAA             2013J       28400      F              Scotland   \n",
      "2             AAA             2013J       30268      F  North Western Region   \n",
      "3             AAA             2013J       31604      F     South East Region   \n",
      "4             AAA             2013J       32885      F  West Midlands Region   \n",
      "...           ...               ...         ...    ...                   ...   \n",
      "32588         GGG             2014J     2640965      F                 Wales   \n",
      "32589         GGG             2014J     2645731      F   East Anglian Region   \n",
      "32590         GGG             2014J     2648187      F          South Region   \n",
      "32591         GGG             2014J     2679821      F     South East Region   \n",
      "32592         GGG             2014J     2684003      F      Yorkshire Region   \n",
      "\n",
      "           highest_education imd_band age_band  num_of_prev_attempts  \\\n",
      "0           HE Qualification  90-100%     55<=                     0   \n",
      "1           HE Qualification   20-30%    35-55                     0   \n",
      "2      A Level or Equivalent   30-40%    35-55                     0   \n",
      "3      A Level or Equivalent   50-60%    35-55                     0   \n",
      "4         Lower Than A Level   50-60%     0-35                     0   \n",
      "...                      ...      ...      ...                   ...   \n",
      "32588     Lower Than A Level    10-20     0-35                     0   \n",
      "32589     Lower Than A Level   40-50%    35-55                     0   \n",
      "32590  A Level or Equivalent   20-30%     0-35                     0   \n",
      "32591     Lower Than A Level  90-100%    35-55                     0   \n",
      "32592       HE Qualification   50-60%    35-55                     0   \n",
      "\n",
      "       studied_credits disability final_result  imd_band_encoded  \n",
      "0                  240          N         Pass              10.0  \n",
      "1                   60          N         Pass               3.0  \n",
      "2                   60          Y    Withdrawn               4.0  \n",
      "3                   60          N         Pass               6.0  \n",
      "4                   60          N         Pass               6.0  \n",
      "...                ...        ...          ...               ...  \n",
      "32588               30          N         Fail               2.0  \n",
      "32589               30          N  Distinction               NaN  \n",
      "32590               30          Y         Pass               3.0  \n",
      "32591               30          N    Withdrawn              10.0  \n",
      "32592               30          N  Distinction               6.0  \n",
      "\n",
      "[32593 rows x 13 columns]\n"
     ]
    }
   ],
   "source": [
    "#Encoding all the percentage values to numeric values and creating a new column for the same.\n",
    "encoding_map= { '0-10%':1, '10-20': 2,\"20-30%\":3,'30-40%': 4,' 40-50%': 5,'50-60%':6,'60-70%':7,'70-80%':8,'80-90%':9, '90-100%': 10}\n",
    "stu_info['imd_band_encoded']= stu_info['imd_band'].map(encoding_map)\n",
    "print(stu_info)"
   ]
  },
  {
   "cell_type": "code",
   "execution_count": 44,
   "id": "81f1ce11",
   "metadata": {},
   "outputs": [],
   "source": [
    "stu_info['imd_band_encoded']=stu_info['imd_band_encoded'].fillna(stu_info['imd_band_encoded'].mean())"
   ]
  },
  {
   "cell_type": "code",
   "execution_count": 52,
   "id": "ae3f177e",
   "metadata": {},
   "outputs": [],
   "source": [
    "stu_info['imd_band_encoded']=stu_info['imd_band_encoded'].astype('int64')"
   ]
  },
  {
   "cell_type": "code",
   "execution_count": 53,
   "id": "d022f9d0",
   "metadata": {},
   "outputs": [
    {
     "name": "stdout",
     "output_type": "stream",
     "text": [
      "int64\n"
     ]
    }
   ],
   "source": [
    "print(stu_info['imd_band_encoded'].dtype)"
   ]
  },
  {
   "cell_type": "code",
   "execution_count": 54,
   "id": "59dc8efc",
   "metadata": {},
   "outputs": [
    {
     "name": "stdout",
     "output_type": "stream",
     "text": [
      "code_module             object\n",
      "code_presentation       object\n",
      "id_student               int64\n",
      "gender                  object\n",
      "region                  object\n",
      "highest_education       object\n",
      "imd_band                object\n",
      "age_band                object\n",
      "num_of_prev_attempts     int64\n",
      "studied_credits          int64\n",
      "disability              object\n",
      "final_result            object\n",
      "imd_band_encoded         int64\n",
      "dtype: object\n"
     ]
    }
   ],
   "source": [
    "print(stu_info.dtypes)"
   ]
  },
  {
   "cell_type": "code",
   "execution_count": 56,
   "id": "aae2f163",
   "metadata": {},
   "outputs": [
    {
     "data": {
      "text/plain": [
       "code_module                0\n",
       "code_presentation          0\n",
       "id_student                 0\n",
       "gender                     0\n",
       "region                     0\n",
       "highest_education          0\n",
       "imd_band                1111\n",
       "age_band                   0\n",
       "num_of_prev_attempts       0\n",
       "studied_credits            0\n",
       "disability                 0\n",
       "final_result               0\n",
       "imd_band_encoded           0\n",
       "dtype: int64"
      ]
     },
     "execution_count": 56,
     "metadata": {},
     "output_type": "execute_result"
    }
   ],
   "source": [
    "pd.isnull(stu_info).sum()"
   ]
  },
  {
   "cell_type": "code",
   "execution_count": 63,
   "id": "1e6a0b60",
   "metadata": {},
   "outputs": [],
   "source": [
    "stu_info.to_csv('C:/Users/Dell/Desktop/25 march/updated/stu_info.csv',index= False)"
   ]
  },
  {
   "cell_type": "code",
   "execution_count": 57,
   "id": "3eb556e5",
   "metadata": {},
   "outputs": [
    {
     "data": {
      "text/plain": [
       "code_module           0\n",
       "code_presentation     0\n",
       "id_assessment         0\n",
       "assessment_type       0\n",
       "date                 11\n",
       "weight                0\n",
       "dtype: int64"
      ]
     },
     "execution_count": 57,
     "metadata": {},
     "output_type": "execute_result"
    }
   ],
   "source": [
    "## Last dataset with null values= Asssessment.csv\n",
    "pd.isnull(assessments).sum()"
   ]
  },
  {
   "cell_type": "code",
   "execution_count": 59,
   "id": "ce25926c",
   "metadata": {},
   "outputs": [],
   "source": [
    "## Droping Date column \n",
    "assessments.drop('date',axis= 1, inplace= True)"
   ]
  },
  {
   "cell_type": "code",
   "execution_count": 60,
   "id": "096af3e7",
   "metadata": {},
   "outputs": [
    {
     "data": {
      "text/plain": [
       "Index(['code_module', 'code_presentation', 'id_assessment', 'assessment_type',\n",
       "       'weight'],\n",
       "      dtype='object')"
      ]
     },
     "execution_count": 60,
     "metadata": {},
     "output_type": "execute_result"
    }
   ],
   "source": [
    "assessments.columns"
   ]
  },
  {
   "cell_type": "code",
   "execution_count": 64,
   "id": "208edd0c",
   "metadata": {},
   "outputs": [],
   "source": [
    "assessments.to_csv('C:/Users/Dell/Desktop/25 march/updated/assessments.csv',index= False)"
   ]
  },
  {
   "cell_type": "markdown",
   "id": "02b37480",
   "metadata": {},
   "source": [
    "#### All the datasets have been cleared of the null values. "
   ]
  }
 ],
 "metadata": {
  "kernelspec": {
   "display_name": "Python 3 (ipykernel)",
   "language": "python",
   "name": "python3"
  },
  "language_info": {
   "codemirror_mode": {
    "name": "ipython",
    "version": 3
   },
   "file_extension": ".py",
   "mimetype": "text/x-python",
   "name": "python",
   "nbconvert_exporter": "python",
   "pygments_lexer": "ipython3",
   "version": "3.11.5"
  }
 },
 "nbformat": 4,
 "nbformat_minor": 5
}
