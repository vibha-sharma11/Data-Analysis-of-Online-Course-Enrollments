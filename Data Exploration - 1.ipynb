{
 "cells": [
  {
   "cell_type": "code",
   "execution_count": 24,
   "id": "2a7a8e4c",
   "metadata": {},
   "outputs": [],
   "source": [
    "import pandas as pd"
   ]
  },
  {
   "cell_type": "markdown",
   "id": "b7544fed",
   "metadata": {},
   "source": [
    "# Checking Statistical summary of all the datasets "
   ]
  },
  {
   "cell_type": "markdown",
   "id": "70cb6307",
   "metadata": {},
   "source": [
    "# # Main Data"
   ]
  },
  {
   "cell_type": "code",
   "execution_count": 2,
   "id": "bc57573d",
   "metadata": {},
   "outputs": [],
   "source": [
    "df = pd.read_csv(\"C:/Users/Dell/Desktop/25 march/studentVle.csv\")"
   ]
  },
  {
   "cell_type": "code",
   "execution_count": 25,
   "id": "4383205c",
   "metadata": {},
   "outputs": [],
   "source": [
    "df1 = pd.read_csv(\"C:/Users/Dell/Desktop/25 march/Vle.csv\")\n",
    "df2 = pd.read_csv(\"C:/Users/Dell/Desktop/25 march/studentRegistration.csv\")\n",
    "df3 = pd.read_csv(\"C:/Users/Dell/Desktop/25 march/studentInfo.csv\")\n",
    "df4 = pd.read_csv(\"C:/Users/Dell/Desktop/25 march/courses.csv\")\n",
    "df5 = pd.read_csv(\"C:/Users/Dell/Desktop/25 march/assessments.csv\")"
   ]
  },
  {
   "cell_type": "code",
   "execution_count": 3,
   "id": "c0146f17",
   "metadata": {},
   "outputs": [
    {
     "data": {
      "text/plain": [
       "<bound method NDFrame.describe of          code_module code_presentation  id_student  id_site  date  sum_click\n",
       "0                AAA             2013J       28400   546652   -10          4\n",
       "1                AAA             2013J       28400   546652   -10          1\n",
       "2                AAA             2013J       28400   546652   -10          1\n",
       "3                AAA             2013J       28400   546614   -10         11\n",
       "4                AAA             2013J       28400   546714   -10          1\n",
       "...              ...               ...         ...      ...   ...        ...\n",
       "10655275         GGG             2014J      675811   896943   269          3\n",
       "10655276         GGG             2014J      675578   896943   269          1\n",
       "10655277         GGG             2014J      654064   896943   269          3\n",
       "10655278         GGG             2014J      654064   896939   269          1\n",
       "10655279         GGG             2014J      654064   896939   269          1\n",
       "\n",
       "[10655280 rows x 6 columns]>"
      ]
     },
     "execution_count": 3,
     "metadata": {},
     "output_type": "execute_result"
    }
   ],
   "source": [
    "df.describe"
   ]
  },
  {
   "cell_type": "code",
   "execution_count": 7,
   "id": "256676bb",
   "metadata": {},
   "outputs": [
    {
     "data": {
      "text/plain": [
       "code_module          0\n",
       "code_presentation    0\n",
       "id_student           0\n",
       "id_site              0\n",
       "date                 0\n",
       "sum_click            0\n",
       "dtype: int64"
      ]
     },
     "execution_count": 7,
     "metadata": {},
     "output_type": "execute_result"
    }
   ],
   "source": [
    "df.isnull().sum()"
   ]
  },
  {
   "cell_type": "code",
   "execution_count": 8,
   "id": "df71aadd",
   "metadata": {},
   "outputs": [
    {
     "name": "stdout",
     "output_type": "stream",
     "text": [
      "code_module          0\n",
      "code_presentation    0\n",
      "id_student           0\n",
      "id_site              0\n",
      "date                 0\n",
      "sum_click            0\n",
      "dtype: int64\n"
     ]
    }
   ],
   "source": [
    "blank_spaces = (df == ' ')\n",
    "blank_spaces_count = blank_spaces.sum()\n",
    "print(blank_spaces_count)"
   ]
  },
  {
   "cell_type": "code",
   "execution_count": null,
   "id": "1b3be37e",
   "metadata": {},
   "outputs": [],
   "source": [
    " ## This shows that there is no null spaces and blank spaces in the main dataset."
   ]
  },
  {
   "cell_type": "code",
   "execution_count": 9,
   "id": "257478f0",
   "metadata": {},
   "outputs": [
    {
     "data": {
      "text/html": [
       "<div>\n",
       "<style scoped>\n",
       "    .dataframe tbody tr th:only-of-type {\n",
       "        vertical-align: middle;\n",
       "    }\n",
       "\n",
       "    .dataframe tbody tr th {\n",
       "        vertical-align: top;\n",
       "    }\n",
       "\n",
       "    .dataframe thead th {\n",
       "        text-align: right;\n",
       "    }\n",
       "</style>\n",
       "<table border=\"1\" class=\"dataframe\">\n",
       "  <thead>\n",
       "    <tr style=\"text-align: right;\">\n",
       "      <th></th>\n",
       "      <th>id_student</th>\n",
       "      <th>id_site</th>\n",
       "      <th>date</th>\n",
       "      <th>sum_click</th>\n",
       "    </tr>\n",
       "  </thead>\n",
       "  <tbody>\n",
       "    <tr>\n",
       "      <th>count</th>\n",
       "      <td>1.065528e+07</td>\n",
       "      <td>1.065528e+07</td>\n",
       "      <td>1.065528e+07</td>\n",
       "      <td>1.065528e+07</td>\n",
       "    </tr>\n",
       "    <tr>\n",
       "      <th>mean</th>\n",
       "      <td>7.333336e+05</td>\n",
       "      <td>7.383234e+05</td>\n",
       "      <td>9.517400e+01</td>\n",
       "      <td>3.716946e+00</td>\n",
       "    </tr>\n",
       "    <tr>\n",
       "      <th>std</th>\n",
       "      <td>5.827060e+05</td>\n",
       "      <td>1.312196e+05</td>\n",
       "      <td>7.607130e+01</td>\n",
       "      <td>8.849047e+00</td>\n",
       "    </tr>\n",
       "    <tr>\n",
       "      <th>min</th>\n",
       "      <td>6.516000e+03</td>\n",
       "      <td>5.267210e+05</td>\n",
       "      <td>-2.500000e+01</td>\n",
       "      <td>1.000000e+00</td>\n",
       "    </tr>\n",
       "    <tr>\n",
       "      <th>25%</th>\n",
       "      <td>5.077430e+05</td>\n",
       "      <td>6.735190e+05</td>\n",
       "      <td>2.500000e+01</td>\n",
       "      <td>1.000000e+00</td>\n",
       "    </tr>\n",
       "    <tr>\n",
       "      <th>50%</th>\n",
       "      <td>5.882360e+05</td>\n",
       "      <td>7.300690e+05</td>\n",
       "      <td>8.600000e+01</td>\n",
       "      <td>2.000000e+00</td>\n",
       "    </tr>\n",
       "    <tr>\n",
       "      <th>75%</th>\n",
       "      <td>6.464840e+05</td>\n",
       "      <td>8.770300e+05</td>\n",
       "      <td>1.560000e+02</td>\n",
       "      <td>3.000000e+00</td>\n",
       "    </tr>\n",
       "    <tr>\n",
       "      <th>max</th>\n",
       "      <td>2.698588e+06</td>\n",
       "      <td>1.049562e+06</td>\n",
       "      <td>2.690000e+02</td>\n",
       "      <td>6.977000e+03</td>\n",
       "    </tr>\n",
       "  </tbody>\n",
       "</table>\n",
       "</div>"
      ],
      "text/plain": [
       "         id_student       id_site          date     sum_click\n",
       "count  1.065528e+07  1.065528e+07  1.065528e+07  1.065528e+07\n",
       "mean   7.333336e+05  7.383234e+05  9.517400e+01  3.716946e+00\n",
       "std    5.827060e+05  1.312196e+05  7.607130e+01  8.849047e+00\n",
       "min    6.516000e+03  5.267210e+05 -2.500000e+01  1.000000e+00\n",
       "25%    5.077430e+05  6.735190e+05  2.500000e+01  1.000000e+00\n",
       "50%    5.882360e+05  7.300690e+05  8.600000e+01  2.000000e+00\n",
       "75%    6.464840e+05  8.770300e+05  1.560000e+02  3.000000e+00\n",
       "max    2.698588e+06  1.049562e+06  2.690000e+02  6.977000e+03"
      ]
     },
     "execution_count": 9,
     "metadata": {},
     "output_type": "execute_result"
    }
   ],
   "source": [
    "df.describe()"
   ]
  },
  {
   "cell_type": "code",
   "execution_count": 12,
   "id": "c7916ff6",
   "metadata": {},
   "outputs": [
    {
     "data": {
      "text/plain": [
       "Index(['code_module', 'code_presentation', 'id_student', 'id_site', 'date',\n",
       "       'sum_click'],\n",
       "      dtype='object')"
      ]
     },
     "execution_count": 12,
     "metadata": {},
     "output_type": "execute_result"
    }
   ],
   "source": [
    "df.columns"
   ]
  },
  {
   "cell_type": "markdown",
   "id": "d7b221cb",
   "metadata": {},
   "source": [
    "# DATASET - 2"
   ]
  },
  {
   "cell_type": "code",
   "execution_count": 20,
   "id": "7bd3421f",
   "metadata": {},
   "outputs": [
    {
     "data": {
      "text/plain": [
       "<bound method NDFrame.describe of       id_site code_module code_presentation activity_type  week_from  week_to\n",
       "0      546943         AAA             2013J      resource        NaN      NaN\n",
       "1      546712         AAA             2013J     oucontent        NaN      NaN\n",
       "2      546998         AAA             2013J      resource        NaN      NaN\n",
       "3      546888         AAA             2013J           url        NaN      NaN\n",
       "4      547035         AAA             2013J      resource        NaN      NaN\n",
       "...       ...         ...               ...           ...        ...      ...\n",
       "6359   897063         GGG             2014J      resource        NaN      NaN\n",
       "6360   897109         GGG             2014J      resource        NaN      NaN\n",
       "6361   896965         GGG             2014J     oucontent        NaN      NaN\n",
       "6362   897060         GGG             2014J      resource        NaN      NaN\n",
       "6363   897100         GGG             2014J      resource        NaN      NaN\n",
       "\n",
       "[6364 rows x 6 columns]>"
      ]
     },
     "execution_count": 20,
     "metadata": {},
     "output_type": "execute_result"
    }
   ],
   "source": [
    "df1.describe"
   ]
  },
  {
   "cell_type": "code",
   "execution_count": 32,
   "id": "f3308a6e",
   "metadata": {},
   "outputs": [
    {
     "data": {
      "text/plain": [
       "id_site                 0\n",
       "code_module             0\n",
       "code_presentation       0\n",
       "activity_type           0\n",
       "week_from            5243\n",
       "week_to              5243\n",
       "dtype: int64"
      ]
     },
     "execution_count": 32,
     "metadata": {},
     "output_type": "execute_result"
    }
   ],
   "source": [
    "df1.isnull().sum()"
   ]
  },
  {
   "cell_type": "code",
   "execution_count": 33,
   "id": "9053cb36",
   "metadata": {},
   "outputs": [
    {
     "data": {
      "text/html": [
       "<div>\n",
       "<style scoped>\n",
       "    .dataframe tbody tr th:only-of-type {\n",
       "        vertical-align: middle;\n",
       "    }\n",
       "\n",
       "    .dataframe tbody tr th {\n",
       "        vertical-align: top;\n",
       "    }\n",
       "\n",
       "    .dataframe thead th {\n",
       "        text-align: right;\n",
       "    }\n",
       "</style>\n",
       "<table border=\"1\" class=\"dataframe\">\n",
       "  <thead>\n",
       "    <tr style=\"text-align: right;\">\n",
       "      <th></th>\n",
       "      <th>id_site</th>\n",
       "      <th>week_from</th>\n",
       "      <th>week_to</th>\n",
       "    </tr>\n",
       "  </thead>\n",
       "  <tbody>\n",
       "    <tr>\n",
       "      <th>count</th>\n",
       "      <td>6.364000e+03</td>\n",
       "      <td>1121.000000</td>\n",
       "      <td>1121.000000</td>\n",
       "    </tr>\n",
       "    <tr>\n",
       "      <th>mean</th>\n",
       "      <td>7.260991e+05</td>\n",
       "      <td>15.204282</td>\n",
       "      <td>15.214987</td>\n",
       "    </tr>\n",
       "    <tr>\n",
       "      <th>std</th>\n",
       "      <td>1.283151e+05</td>\n",
       "      <td>8.792865</td>\n",
       "      <td>8.779806</td>\n",
       "    </tr>\n",
       "    <tr>\n",
       "      <th>min</th>\n",
       "      <td>5.267210e+05</td>\n",
       "      <td>0.000000</td>\n",
       "      <td>0.000000</td>\n",
       "    </tr>\n",
       "    <tr>\n",
       "      <th>25%</th>\n",
       "      <td>6.615928e+05</td>\n",
       "      <td>8.000000</td>\n",
       "      <td>8.000000</td>\n",
       "    </tr>\n",
       "    <tr>\n",
       "      <th>50%</th>\n",
       "      <td>7.300965e+05</td>\n",
       "      <td>15.000000</td>\n",
       "      <td>15.000000</td>\n",
       "    </tr>\n",
       "    <tr>\n",
       "      <th>75%</th>\n",
       "      <td>8.140162e+05</td>\n",
       "      <td>22.000000</td>\n",
       "      <td>22.000000</td>\n",
       "    </tr>\n",
       "    <tr>\n",
       "      <th>max</th>\n",
       "      <td>1.077905e+06</td>\n",
       "      <td>29.000000</td>\n",
       "      <td>29.000000</td>\n",
       "    </tr>\n",
       "  </tbody>\n",
       "</table>\n",
       "</div>"
      ],
      "text/plain": [
       "            id_site    week_from      week_to\n",
       "count  6.364000e+03  1121.000000  1121.000000\n",
       "mean   7.260991e+05    15.204282    15.214987\n",
       "std    1.283151e+05     8.792865     8.779806\n",
       "min    5.267210e+05     0.000000     0.000000\n",
       "25%    6.615928e+05     8.000000     8.000000\n",
       "50%    7.300965e+05    15.000000    15.000000\n",
       "75%    8.140162e+05    22.000000    22.000000\n",
       "max    1.077905e+06    29.000000    29.000000"
      ]
     },
     "execution_count": 33,
     "metadata": {},
     "output_type": "execute_result"
    }
   ],
   "source": [
    "df1.describe()"
   ]
  },
  {
   "cell_type": "markdown",
   "id": "7871eaca",
   "metadata": {},
   "source": [
    "# DATASET - 3"
   ]
  },
  {
   "cell_type": "code",
   "execution_count": 23,
   "id": "e83ad3a1",
   "metadata": {},
   "outputs": [
    {
     "data": {
      "text/plain": [
       "<bound method NDFrame.describe of       code_module code_presentation  id_student  date_registration  \\\n",
       "0             AAA             2013J       11391             -159.0   \n",
       "1             AAA             2013J       28400              -53.0   \n",
       "2             AAA             2013J       30268              -92.0   \n",
       "3             AAA             2013J       31604              -52.0   \n",
       "4             AAA             2013J       32885             -176.0   \n",
       "...           ...               ...         ...                ...   \n",
       "32588         GGG             2014J     2640965               -4.0   \n",
       "32589         GGG             2014J     2645731              -23.0   \n",
       "32590         GGG             2014J     2648187             -129.0   \n",
       "32591         GGG             2014J     2679821              -49.0   \n",
       "32592         GGG             2014J     2684003              -28.0   \n",
       "\n",
       "       date_unregistration  \n",
       "0                      NaN  \n",
       "1                      NaN  \n",
       "2                     12.0  \n",
       "3                      NaN  \n",
       "4                      NaN  \n",
       "...                    ...  \n",
       "32588                  NaN  \n",
       "32589                  NaN  \n",
       "32590                  NaN  \n",
       "32591                101.0  \n",
       "32592                  NaN  \n",
       "\n",
       "[32593 rows x 5 columns]>"
      ]
     },
     "execution_count": 23,
     "metadata": {},
     "output_type": "execute_result"
    }
   ],
   "source": [
    "df2.describe"
   ]
  },
  {
   "cell_type": "code",
   "execution_count": 31,
   "id": "531fd0dc",
   "metadata": {},
   "outputs": [
    {
     "data": {
      "text/plain": [
       "code_module                0\n",
       "code_presentation          0\n",
       "id_student                 0\n",
       "date_registration         45\n",
       "date_unregistration    22521\n",
       "dtype: int64"
      ]
     },
     "execution_count": 31,
     "metadata": {},
     "output_type": "execute_result"
    }
   ],
   "source": [
    "df2.isnull().sum()"
   ]
  },
  {
   "cell_type": "code",
   "execution_count": 36,
   "id": "03c753f7",
   "metadata": {},
   "outputs": [
    {
     "data": {
      "text/html": [
       "<div>\n",
       "<style scoped>\n",
       "    .dataframe tbody tr th:only-of-type {\n",
       "        vertical-align: middle;\n",
       "    }\n",
       "\n",
       "    .dataframe tbody tr th {\n",
       "        vertical-align: top;\n",
       "    }\n",
       "\n",
       "    .dataframe thead th {\n",
       "        text-align: right;\n",
       "    }\n",
       "</style>\n",
       "<table border=\"1\" class=\"dataframe\">\n",
       "  <thead>\n",
       "    <tr style=\"text-align: right;\">\n",
       "      <th></th>\n",
       "      <th>id_student</th>\n",
       "      <th>date_registration</th>\n",
       "      <th>date_unregistration</th>\n",
       "    </tr>\n",
       "  </thead>\n",
       "  <tbody>\n",
       "    <tr>\n",
       "      <th>count</th>\n",
       "      <td>3.259300e+04</td>\n",
       "      <td>32548.000000</td>\n",
       "      <td>10072.000000</td>\n",
       "    </tr>\n",
       "    <tr>\n",
       "      <th>mean</th>\n",
       "      <td>7.066877e+05</td>\n",
       "      <td>-69.411300</td>\n",
       "      <td>49.757645</td>\n",
       "    </tr>\n",
       "    <tr>\n",
       "      <th>std</th>\n",
       "      <td>5.491673e+05</td>\n",
       "      <td>49.260522</td>\n",
       "      <td>82.460890</td>\n",
       "    </tr>\n",
       "    <tr>\n",
       "      <th>min</th>\n",
       "      <td>3.733000e+03</td>\n",
       "      <td>-322.000000</td>\n",
       "      <td>-365.000000</td>\n",
       "    </tr>\n",
       "    <tr>\n",
       "      <th>25%</th>\n",
       "      <td>5.085730e+05</td>\n",
       "      <td>-100.000000</td>\n",
       "      <td>-2.000000</td>\n",
       "    </tr>\n",
       "    <tr>\n",
       "      <th>50%</th>\n",
       "      <td>5.903100e+05</td>\n",
       "      <td>-57.000000</td>\n",
       "      <td>27.000000</td>\n",
       "    </tr>\n",
       "    <tr>\n",
       "      <th>75%</th>\n",
       "      <td>6.444530e+05</td>\n",
       "      <td>-29.000000</td>\n",
       "      <td>109.000000</td>\n",
       "    </tr>\n",
       "    <tr>\n",
       "      <th>max</th>\n",
       "      <td>2.716795e+06</td>\n",
       "      <td>167.000000</td>\n",
       "      <td>444.000000</td>\n",
       "    </tr>\n",
       "  </tbody>\n",
       "</table>\n",
       "</div>"
      ],
      "text/plain": [
       "         id_student  date_registration  date_unregistration\n",
       "count  3.259300e+04       32548.000000         10072.000000\n",
       "mean   7.066877e+05         -69.411300            49.757645\n",
       "std    5.491673e+05          49.260522            82.460890\n",
       "min    3.733000e+03        -322.000000          -365.000000\n",
       "25%    5.085730e+05        -100.000000            -2.000000\n",
       "50%    5.903100e+05         -57.000000            27.000000\n",
       "75%    6.444530e+05         -29.000000           109.000000\n",
       "max    2.716795e+06         167.000000           444.000000"
      ]
     },
     "execution_count": 36,
     "metadata": {},
     "output_type": "execute_result"
    }
   ],
   "source": [
    "df2.describe()"
   ]
  },
  {
   "cell_type": "markdown",
   "id": "20bf6b28",
   "metadata": {},
   "source": [
    "# DATASET - 4"
   ]
  },
  {
   "cell_type": "code",
   "execution_count": 37,
   "id": "1867910e",
   "metadata": {},
   "outputs": [
    {
     "data": {
      "text/plain": [
       "<bound method NDFrame.describe of       code_module code_presentation  id_student gender                region  \\\n",
       "0             AAA             2013J       11391      M   East Anglian Region   \n",
       "1             AAA             2013J       28400      F              Scotland   \n",
       "2             AAA             2013J       30268      F  North Western Region   \n",
       "3             AAA             2013J       31604      F     South East Region   \n",
       "4             AAA             2013J       32885      F  West Midlands Region   \n",
       "...           ...               ...         ...    ...                   ...   \n",
       "32588         GGG             2014J     2640965      F                 Wales   \n",
       "32589         GGG             2014J     2645731      F   East Anglian Region   \n",
       "32590         GGG             2014J     2648187      F          South Region   \n",
       "32591         GGG             2014J     2679821      F     South East Region   \n",
       "32592         GGG             2014J     2684003      F      Yorkshire Region   \n",
       "\n",
       "           highest_education imd_band age_band  num_of_prev_attempts  \\\n",
       "0           HE Qualification  90-100%     55<=                     0   \n",
       "1           HE Qualification   20-30%    35-55                     0   \n",
       "2      A Level or Equivalent   30-40%    35-55                     0   \n",
       "3      A Level or Equivalent   50-60%    35-55                     0   \n",
       "4         Lower Than A Level   50-60%     0-35                     0   \n",
       "...                      ...      ...      ...                   ...   \n",
       "32588     Lower Than A Level    10-20     0-35                     0   \n",
       "32589     Lower Than A Level   40-50%    35-55                     0   \n",
       "32590  A Level or Equivalent   20-30%     0-35                     0   \n",
       "32591     Lower Than A Level  90-100%    35-55                     0   \n",
       "32592       HE Qualification   50-60%    35-55                     0   \n",
       "\n",
       "       studied_credits disability final_result  \n",
       "0                  240          N         Pass  \n",
       "1                   60          N         Pass  \n",
       "2                   60          Y    Withdrawn  \n",
       "3                   60          N         Pass  \n",
       "4                   60          N         Pass  \n",
       "...                ...        ...          ...  \n",
       "32588               30          N         Fail  \n",
       "32589               30          N  Distinction  \n",
       "32590               30          Y         Pass  \n",
       "32591               30          N    Withdrawn  \n",
       "32592               30          N  Distinction  \n",
       "\n",
       "[32593 rows x 12 columns]>"
      ]
     },
     "execution_count": 37,
     "metadata": {},
     "output_type": "execute_result"
    }
   ],
   "source": [
    "df3.describe\n"
   ]
  },
  {
   "cell_type": "code",
   "execution_count": 39,
   "id": "e119dde7",
   "metadata": {},
   "outputs": [
    {
     "data": {
      "text/plain": [
       "code_module                0\n",
       "code_presentation          0\n",
       "id_student                 0\n",
       "gender                     0\n",
       "region                     0\n",
       "highest_education          0\n",
       "imd_band                1111\n",
       "age_band                   0\n",
       "num_of_prev_attempts       0\n",
       "studied_credits            0\n",
       "disability                 0\n",
       "final_result               0\n",
       "dtype: int64"
      ]
     },
     "execution_count": 39,
     "metadata": {},
     "output_type": "execute_result"
    }
   ],
   "source": [
    "df3.isnull().sum()"
   ]
  },
  {
   "cell_type": "code",
   "execution_count": 40,
   "id": "5059e380",
   "metadata": {},
   "outputs": [
    {
     "data": {
      "text/html": [
       "<div>\n",
       "<style scoped>\n",
       "    .dataframe tbody tr th:only-of-type {\n",
       "        vertical-align: middle;\n",
       "    }\n",
       "\n",
       "    .dataframe tbody tr th {\n",
       "        vertical-align: top;\n",
       "    }\n",
       "\n",
       "    .dataframe thead th {\n",
       "        text-align: right;\n",
       "    }\n",
       "</style>\n",
       "<table border=\"1\" class=\"dataframe\">\n",
       "  <thead>\n",
       "    <tr style=\"text-align: right;\">\n",
       "      <th></th>\n",
       "      <th>id_student</th>\n",
       "      <th>num_of_prev_attempts</th>\n",
       "      <th>studied_credits</th>\n",
       "    </tr>\n",
       "  </thead>\n",
       "  <tbody>\n",
       "    <tr>\n",
       "      <th>count</th>\n",
       "      <td>3.259300e+04</td>\n",
       "      <td>32593.000000</td>\n",
       "      <td>32593.000000</td>\n",
       "    </tr>\n",
       "    <tr>\n",
       "      <th>mean</th>\n",
       "      <td>7.066877e+05</td>\n",
       "      <td>0.163225</td>\n",
       "      <td>79.758691</td>\n",
       "    </tr>\n",
       "    <tr>\n",
       "      <th>std</th>\n",
       "      <td>5.491673e+05</td>\n",
       "      <td>0.479758</td>\n",
       "      <td>41.071900</td>\n",
       "    </tr>\n",
       "    <tr>\n",
       "      <th>min</th>\n",
       "      <td>3.733000e+03</td>\n",
       "      <td>0.000000</td>\n",
       "      <td>30.000000</td>\n",
       "    </tr>\n",
       "    <tr>\n",
       "      <th>25%</th>\n",
       "      <td>5.085730e+05</td>\n",
       "      <td>0.000000</td>\n",
       "      <td>60.000000</td>\n",
       "    </tr>\n",
       "    <tr>\n",
       "      <th>50%</th>\n",
       "      <td>5.903100e+05</td>\n",
       "      <td>0.000000</td>\n",
       "      <td>60.000000</td>\n",
       "    </tr>\n",
       "    <tr>\n",
       "      <th>75%</th>\n",
       "      <td>6.444530e+05</td>\n",
       "      <td>0.000000</td>\n",
       "      <td>120.000000</td>\n",
       "    </tr>\n",
       "    <tr>\n",
       "      <th>max</th>\n",
       "      <td>2.716795e+06</td>\n",
       "      <td>6.000000</td>\n",
       "      <td>655.000000</td>\n",
       "    </tr>\n",
       "  </tbody>\n",
       "</table>\n",
       "</div>"
      ],
      "text/plain": [
       "         id_student  num_of_prev_attempts  studied_credits\n",
       "count  3.259300e+04          32593.000000     32593.000000\n",
       "mean   7.066877e+05              0.163225        79.758691\n",
       "std    5.491673e+05              0.479758        41.071900\n",
       "min    3.733000e+03              0.000000        30.000000\n",
       "25%    5.085730e+05              0.000000        60.000000\n",
       "50%    5.903100e+05              0.000000        60.000000\n",
       "75%    6.444530e+05              0.000000       120.000000\n",
       "max    2.716795e+06              6.000000       655.000000"
      ]
     },
     "execution_count": 40,
     "metadata": {},
     "output_type": "execute_result"
    }
   ],
   "source": [
    "df3.describe()"
   ]
  },
  {
   "cell_type": "markdown",
   "id": "8eac065b",
   "metadata": {},
   "source": [
    "# DATASET - 5"
   ]
  },
  {
   "cell_type": "code",
   "execution_count": 41,
   "id": "0d83983f",
   "metadata": {},
   "outputs": [
    {
     "data": {
      "text/plain": [
       "<bound method NDFrame.describe of    code_module code_presentation  module_presentation_length\n",
       "0          AAA             2013J                         268\n",
       "1          AAA             2014J                         269\n",
       "2          BBB             2013J                         268\n",
       "3          BBB             2014J                         262\n",
       "4          BBB             2013B                         240\n",
       "5          BBB             2014B                         234\n",
       "6          CCC             2014J                         269\n",
       "7          CCC             2014B                         241\n",
       "8          DDD             2013J                         261\n",
       "9          DDD             2014J                         262\n",
       "10         DDD             2013B                         240\n",
       "11         DDD             2014B                         241\n",
       "12         EEE             2013J                         268\n",
       "13         EEE             2014J                         269\n",
       "14         EEE             2014B                         241\n",
       "15         FFF             2013J                         268\n",
       "16         FFF             2014J                         269\n",
       "17         FFF             2013B                         240\n",
       "18         FFF             2014B                         241\n",
       "19         GGG             2013J                         261\n",
       "20         GGG             2014J                         269\n",
       "21         GGG             2014B                         241>"
      ]
     },
     "execution_count": 41,
     "metadata": {},
     "output_type": "execute_result"
    }
   ],
   "source": [
    "df4.describe\n"
   ]
  },
  {
   "cell_type": "code",
   "execution_count": 42,
   "id": "6c8ee3b3",
   "metadata": {},
   "outputs": [
    {
     "data": {
      "text/plain": [
       "code_module                   0\n",
       "code_presentation             0\n",
       "module_presentation_length    0\n",
       "dtype: int64"
      ]
     },
     "execution_count": 42,
     "metadata": {},
     "output_type": "execute_result"
    }
   ],
   "source": [
    "df4.isnull().sum()"
   ]
  },
  {
   "cell_type": "markdown",
   "id": "80b11343",
   "metadata": {},
   "source": [
    "# DATASET - 6"
   ]
  },
  {
   "cell_type": "code",
   "execution_count": 19,
   "id": "efc6f5ba",
   "metadata": {},
   "outputs": [
    {
     "data": {
      "text/plain": [
       "<bound method NDFrame.describe of     code_module code_presentation  id_assessment assessment_type   date  \\\n",
       "0           AAA             2013J           1752             TMA   19.0   \n",
       "1           AAA             2013J           1753             TMA   54.0   \n",
       "2           AAA             2013J           1754             TMA  117.0   \n",
       "3           AAA             2013J           1755             TMA  166.0   \n",
       "4           AAA             2013J           1756             TMA  215.0   \n",
       "..          ...               ...            ...             ...    ...   \n",
       "201         GGG             2014J          37443             CMA  229.0   \n",
       "202         GGG             2014J          37435             TMA   61.0   \n",
       "203         GGG             2014J          37436             TMA  124.0   \n",
       "204         GGG             2014J          37437             TMA  173.0   \n",
       "205         GGG             2014J          37444            Exam  229.0   \n",
       "\n",
       "     weight  \n",
       "0      10.0  \n",
       "1      20.0  \n",
       "2      20.0  \n",
       "3      20.0  \n",
       "4      30.0  \n",
       "..      ...  \n",
       "201     0.0  \n",
       "202     0.0  \n",
       "203     0.0  \n",
       "204     0.0  \n",
       "205   100.0  \n",
       "\n",
       "[206 rows x 6 columns]>"
      ]
     },
     "execution_count": 19,
     "metadata": {},
     "output_type": "execute_result"
    }
   ],
   "source": [
    "df5.describe"
   ]
  },
  {
   "cell_type": "code",
   "execution_count": 44,
   "id": "552bc44e",
   "metadata": {},
   "outputs": [
    {
     "data": {
      "text/plain": [
       "code_module           0\n",
       "code_presentation     0\n",
       "id_assessment         0\n",
       "assessment_type       0\n",
       "date                 11\n",
       "weight                0\n",
       "dtype: int64"
      ]
     },
     "execution_count": 44,
     "metadata": {},
     "output_type": "execute_result"
    }
   ],
   "source": [
    "df5.isnull().sum()"
   ]
  },
  {
   "cell_type": "markdown",
   "id": "1440fc7e",
   "metadata": {},
   "source": [
    "# CONCLUSION: "
   ]
  },
  {
   "cell_type": "code",
   "execution_count": null,
   "id": "964eb36b",
   "metadata": {},
   "outputs": [],
   "source": [
    "# In main dataset there is no null values but its corresponding datasets have them.\n",
    "# In dataset no. 2 week_from - week_to there are EQUAL number of missing values.\n",
    "# WHereas there is a huge data entries missing in column date_unregistered showing that there is no clarity in the same.\n",
    "# In dataset 4 and 6 there are 1 column each having missing values. "
   ]
  }
 ],
 "metadata": {
  "kernelspec": {
   "display_name": "Python 3 (ipykernel)",
   "language": "python",
   "name": "python3"
  },
  "language_info": {
   "codemirror_mode": {
    "name": "ipython",
    "version": 3
   },
   "file_extension": ".py",
   "mimetype": "text/x-python",
   "name": "python",
   "nbconvert_exporter": "python",
   "pygments_lexer": "ipython3",
   "version": "3.11.5"
  }
 },
 "nbformat": 4,
 "nbformat_minor": 5
}
